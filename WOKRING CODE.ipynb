{
 "cells": [
  {
   "cell_type": "code",
   "execution_count": 1,
   "metadata": {},
   "outputs": [],
   "source": [
    "%matplotlib inline\n",
    "import matplotlib.pyplot as plt\n",
    "import pandas as pd\n",
    "import numpy as np\n",
    "import os\n",
    "import seaborn as sns\n",
    "from scipy.stats import linregress\n",
    "\n",
    "import warnings\n",
    "warnings.filterwarnings('ignore')\n",
    "\n",
    "file1 = os.path.join((os.environ.get('HOME')),'Downloads', 'athlete_events.csv') \n",
    "file2 = os.path.join((os.environ.get('HOME')),'Downloads', 'noc_regions.csv') \n",
    "file3 = os.path.join((os.environ.get('HOME')),'Downloads', 'countrypop.csv')\n",
    "# file1 = '/Users/danvaldes/Downloads/athlete_events.csv'\n",
    "# file2 = '/Users/danvaldes/Downloads/noc_regions.csv'\n",
    "\n",
    "df1 = pd.read_csv(file1)\n",
    "df2 = pd.read_csv(file2)\n",
    "df3 = pd.read_csv(file3)\n",
    "\n",
    "\n",
    "final_df = pd.merge(df1, df2, on='NOC', how='inner')\n",
    "final_df.drop(columns=['notes']).rename(columns = {'Height':'Height (cm)','Weight':'Weight (kg)','region':'Country'})\n",
    "\n",
    "final_df.head(20);\n",
    "\n",
    "df = final_df.dropna()\n",
    "df.head();"
   ]
  },
  {
   "cell_type": "code",
   "execution_count": 2,
   "metadata": {},
   "outputs": [],
   "source": [
    "# creating sport parent category column\n",
    "\n",
    "d = {\n",
    "    'Aquatic Sport': ['Swimming', 'Diving','Synchronized Swimming', 'Water Polo'],\n",
    "    'Track & Field': ['Athletics','Modern Pentathlon', 'Triathlon', 'Biathlon', 'Cycling'],\n",
    "    'Team Sport': ['Softball', 'Basketball', 'Volleyball', 'Beach Volleyball',\n",
    "                   'Handball', 'Rugby', 'Lacrosse'],\n",
    "    'Gymnastics': ['Gymnastics', 'Rhytmic Gymnastics', 'Trampolining'],\n",
    "    'Weightlifting': ['Weightlifting'],\n",
    "    'Combat Sport': ['Boxing','Judo', 'Wrestling', 'Taekwondo'],\n",
    "    'Winter Sport': ['Short Track Speed Skating', 'Ski Jumping', 'Cross Country Skiing',\n",
    "                     'Luge','Bobsleigh', 'Alpine Skiing', 'Curling', 'Snowboarding',\n",
    "                     'Ice Hockey', 'Hockey', 'Speed Skating']\n",
    "    }\n",
    "\n",
    "# unpacks lists so it's {sport: category_label}\n",
    "d = {sport: cat for cat,l in d.items() for sport in l}\n",
    "df['Sport Category'] = df['Sport'].map(d);"
   ]
  },
  {
   "cell_type": "code",
   "execution_count": 23,
   "metadata": {},
   "outputs": [],
   "source": [
    "# creating BMI column\n",
    "\n",
    "BMI = df['Weight (kg)'] / (df['Height (cm)'] / 100) ** 2\n",
    "\n",
    "df['BMI'] = BMI.round(2)\n",
    "\n",
    "df = df[['ID','Name','Sex','Age','Height (cm)','Weight (kg)','BMI','Team','Games','Year','Season','City','Sport','Event','Medal','NOC','Country','Sport Category']]"
   ]
  },
  {
   "cell_type": "markdown",
   "metadata": {},
   "source": [
    "## ATHLETES BY NATION: CHINA and US"
   ]
  },
  {
   "cell_type": "code",
   "execution_count": null,
   "metadata": {},
   "outputs": [],
   "source": [
    "reduced_olympic_data = df[[\"Name\", \"Country\", \"Games\",\"Medal\"]]\n",
    "\n",
    "# countries of interest\n",
    "american_athletes_df = reduced_olympic_data[reduced_olympic_data['Country'] == 'USA']\n",
    "\n",
    "chinese_athletes_df = reduced_olympic_data[reduced_olympic_data['Country'] == 'China']\n",
    "\n",
    "# count of national athletes by year\n",
    "usa_athlete_by_year = american_athletes_df[\"Games\"].value_counts().head(16)\n",
    "\n",
    "china_athletes_by_year = chinese_athletes_df[\"Games\"].value_counts()"
   ]
  },
  {
   "cell_type": "code",
   "execution_count": null,
   "metadata": {},
   "outputs": [],
   "source": [
    "games = [\"2008 Summer\", \"2012 Summer\", \"2016 Summer\", \"1996 Summer\",\n",
    "        \"2004 Summer\", \"1992 Summer\", \"2000 Summer\", \"1984 Summer\", \n",
    "        \"1988 Summer\", \"2010 Winter\", \"2002 Winter\", \"1998 Winter\", \n",
    "        \"2006 Winter\", \"2014 Winter\", \"1994 Winter\", \"1992 Winter\"]\n",
    "\n",
    "\n",
    "#plot number of US athletes as a line chart \n",
    "\n",
    "americans_by_year, = plt.plot(games, usa_athlete_by_year, color=\"blue\", label=\"Avg. Number of American Athletes\" )\n",
    "\n",
    "#plot number of chinese athletes\n",
    "\n",
    "chinese_by_year, = plt.plot(games, china_athletes_by_year, color=\"red\", label= \"Avg. Number of Chinese Athletes\")\n",
    "\n",
    "plt.xticks(rotation=90)\n",
    "plt.title('Count of Athletes: US & China')\n",
    "plt.legend(handles=[americans_by_year, chinese_by_year], loc=\"best\")\n",
    "\n",
    "plt.show\n",
    "plt.savefig('AthleteCountChina&US')"
   ]
  },
  {
   "cell_type": "code",
   "execution_count": null,
   "metadata": {},
   "outputs": [],
   "source": [
    "china_medals = chinese_athletes_df[\"Medal\"].value_counts()\n",
    "\n",
    "china_labels = [\"Gold\", \"Silver\", \"Bronze\"]\n",
    "\n",
    "china_colors = [\"gold\", \"silver\", \"brown\"]\n",
    "\n",
    "plt.pie(china_medals, labels=china_labels, colors=china_colors, autopct= \"%1.1f%%\",\n",
    "       shadow=True, startangle=140)\n",
    "plt.title('Medals Won by China')\n",
    "plt.savefig('MedalsWonbyChina')"
   ]
  },
  {
   "cell_type": "code",
   "execution_count": null,
   "metadata": {
    "scrolled": true
   },
   "outputs": [],
   "source": [
    "usa_medals = american_athletes_df[\"Medal\"].value_counts()\n",
    "\n",
    "labels = [\"Gold\", \"Silver\", \"Bronze\"]\n",
    "\n",
    "colors = [\"gold\", \"silver\", \"brown\"]\n",
    "plt.pie(usa_medals, labels=labels, colors=colors, autopct= \"%1.1f%%\",\n",
    "       shadow=True)\n",
    "plt.title('Medals won by USA')\n",
    "plt.savefig('MedalsWonbyUS')"
   ]
  },
  {
   "cell_type": "code",
   "execution_count": 4,
   "metadata": {},
   "outputs": [],
   "source": [
    "# Total Appearances\n",
    "\n",
    "appearances = pd.DataFrame(final_df.groupby('Country')['ID'].count())\n",
    "appearances.sort_values(by = 'ID', ascending = False);"
   ]
  },
  {
   "cell_type": "code",
   "execution_count": 5,
   "metadata": {},
   "outputs": [],
   "source": [
    "# Medals Won\n",
    "\n",
    "medals = pd.DataFrame(final_df.groupby('Country')['Medal'].count())\n",
    "medals.sort_values(by = 'Medal', ascending = False);"
   ]
  },
  {
   "cell_type": "code",
   "execution_count": 11,
   "metadata": {
    "scrolled": false
   },
   "outputs": [
    {
     "data": {
      "image/png": "[encoded data removed]",
      "text/plain": [
       "<Figure size 432x288 with 1 Axes>"
      ]
     },
     "metadata": {
      "needs_background": "light"
     },
     "output_type": "display_data"
    }
   ],
   "source": [
    "# Regression on Medals by Appearances\n",
    "\n",
    "slope, intercept, r_value, p_value, std_err = linregress(appearances['ID'],medals['Medal'])\n",
    "fit = slope * appearances['ID'] + intercept\n",
    "\n",
    "fig, ax = plt.subplots()\n",
    "    \n",
    "fig.suptitle('Regression Model on Medals by Appearances', fontsize=16, fontweight=\"bold\")\n",
    "\n",
    "ax.plot(appearances['ID'], medals['Medal'], linewidth=0, marker='o')\n",
    "ax.plot(appearances['ID'], fit, 'b--')\n",
    "\n",
    "r_value, p_value;"
   ]
  },
  {
   "cell_type": "code",
   "execution_count": null,
   "metadata": {},
   "outputs": [],
   "source": [
    "# Countries with 0 medals\n",
    "\n",
    "medals_loser = medals[medals['Medal'] == 0]\n",
    "medals_loser;"
   ]
  },
  {
   "cell_type": "markdown",
   "metadata": {},
   "source": [
    "## MEDAL SHARE BY NATION"
   ]
  },
  {
   "cell_type": "code",
   "execution_count": null,
   "metadata": {},
   "outputs": [],
   "source": [
    "# creating dfs for summer and winter olympics\n",
    "\n",
    "summer_medals = df[df['Season'] == 'Summer'].groupby(['Country'])['Medal']\n",
    "summer_medals_count = pd.DataFrame(summer_medals.count())\n",
    "summer_medals_count = summer_medals_count.sort_values(by = 'Medal', ascending = False)\n",
    "\n",
    "winter_medals = df[df['Season'] == 'Winter'].groupby(['Country'])['Medal']\n",
    "winter_medals_count = pd.DataFrame(winter_medals.count())\n",
    "winter_medals_count = winter_medals_count.sort_values(by = 'Medal', ascending = False)"
   ]
  },
  {
   "cell_type": "code",
   "execution_count": null,
   "metadata": {},
   "outputs": [],
   "source": [
    "# creating labels and formatting percentages for pie charts\n",
    "\n",
    "summer_labels = [x if y > summer_medals_count['Medal'].sum() * 0.017 else '' for x, y in zip(summer_medals_count.index, summer_medals_count['Medal'])]\n",
    "winter_labels = [x if y > winter_medals_count['Medal'].sum() * 0.04 else '' for x, y in zip(winter_medals_count.index, winter_medals_count['Medal'])]\n",
    "explode = (0.1)\n",
    "\n",
    "def my_autopct(pct):\n",
    "    return ('%1.0f%%' % pct) if pct >= 4 else ''"
   ]
  },
  {
   "cell_type": "code",
   "execution_count": null,
   "metadata": {},
   "outputs": [],
   "source": [
    "# creating pie chart for summer olympics\n",
    "\n",
    "plt.figure(figsize=(8, 8))\n",
    "plt.title('Share of Medals Won by Nation:\\nSummer Olympics', y = .95, fontdict = {\n",
    "    'fontsize': 14,\n",
    "    'fontweight':'bold'\n",
    "})\n",
    "\n",
    "plt.pie(summer_medals_count, startangle = 135, labels = summer_labels, autopct = my_autopct, radius=1, shadow = True, rotatelabels = False, textprops = {\n",
    "    'fontsize':12\n",
    "})\n",
    "\n",
    "\n",
    "plt.show\n",
    "\n",
    "plt.savefig('MedalShareSummer.png')"
   ]
  },
  {
   "cell_type": "code",
   "execution_count": null,
   "metadata": {
    "scrolled": true
   },
   "outputs": [],
   "source": [
    "# creating pie chart for winter olympics\n",
    "\n",
    "plt.figure(figsize=(8, 8))\n",
    "plt.title('Share of Medals Won by Nation:\\nWinter Olympics', y = .95, fontdict = {\n",
    "    'fontsize': 14,\n",
    "    'fontweight':'bold'\n",
    "})\n",
    "\n",
    "plt.pie(winter_medals_count, startangle = 135, labels = winter_labels, autopct = my_autopct, radius = 1, shadow = True, textprops = {\n",
    "    'fontsize':12\n",
    "})\n",
    "\n",
    "plt.show\n",
    "\n",
    "plt.savefig('MedalShareWinter.png')"
   ]
  },
  {
   "cell_type": "markdown",
   "metadata": {},
   "source": [
    "## DIFFERENCES BETWEEN MEN AND WOMEN"
   ]
  },
  {
   "cell_type": "code",
   "execution_count": 12,
   "metadata": {
    "scrolled": false
   },
   "outputs": [],
   "source": [
    "# create dfs for men and women\n",
    "\n",
    "women = df[df['Sex'] == 'F'].drop_duplicates('Name')\n",
    "\n",
    "men = df[df['Sex'] == 'M'].drop_duplicates('Name')\n",
    "\n",
    "\n",
    "# descriptive statistics\n",
    "\n",
    "women_desc = pd.DataFrame({\n",
    "    'Average Height (cm)': [women['Height (cm)'].mean()],\n",
    "    'Average Weight (kg)': [women['Weight (kg)'].mean()],\n",
    "    'Average BMI': [women['BMI'].mean()]\n",
    "}).round(2)\n",
    "\n",
    "men_desc = pd.DataFrame({\n",
    "    'Average Height (cm)': [men['Height (cm)'].mean()],\n",
    "    'Average Weight (kg)': [men['Weight (kg)'].mean()],\n",
    "    'Average BMI': [men['BMI'].mean()]\n",
    "}).round(2)"
   ]
  },
  {
   "cell_type": "code",
   "execution_count": null,
   "metadata": {},
   "outputs": [],
   "source": [
    "women_desc"
   ]
  },
  {
   "cell_type": "code",
   "execution_count": null,
   "metadata": {
    "scrolled": true
   },
   "outputs": [],
   "source": [
    "men_desc"
   ]
  },
  {
   "cell_type": "code",
   "execution_count": 21,
   "metadata": {},
   "outputs": [],
   "source": [
    "# heaviest man and woman\n",
    "\n",
    "\n",
    "\n",
    "men.sort_values(by = 'Weight (kg)', ascending = False).head()\n",
    "\n",
    "women.sort_values(by = 'Weight (kg)', ascending = False).head();"
   ]
  },
  {
   "cell_type": "code",
   "execution_count": 20,
   "metadata": {},
   "outputs": [],
   "source": [
    "# tallest man and woman\n",
    "\n",
    "men.sort_values(by = 'Height (cm)', ascending = False).head(10)\n",
    "\n",
    "women.sort_values(by = 'Height (cm)', ascending = True).head();"
   ]
  },
  {
   "cell_type": "code",
   "execution_count": null,
   "metadata": {
    "scrolled": true
   },
   "outputs": [],
   "source": [
    "plt.figure(figsize=(8, 8))\n",
    "sns.boxplot(x = df['Sex'], y = df['Weight (kg)'], width = .4).set_title('Weight Distribution by Gender')\n",
    "plt.savefig('WeightDistribution.png')"
   ]
  },
  {
   "cell_type": "code",
   "execution_count": null,
   "metadata": {
    "scrolled": false
   },
   "outputs": [],
   "source": [
    "plt.figure(figsize=(8, 8))\n",
    "sns.boxplot(x = df['Sex'], y = df['Height (cm)'], width = .4).set_title('Height Distribution by Gender')\n",
    "plt.savefig('HeightDistribution.png')"
   ]
  },
  {
   "cell_type": "code",
   "execution_count": null,
   "metadata": {},
   "outputs": [],
   "source": [
    "#Isolate All Gold Medalists both male and female\n",
    "goldMedals = final_df[final_df[Medal] == 'Gold')]\n",
    "goldMedals.head()"
   ]
  },
  {
   "cell_type": "code",
   "execution_count": null,
   "metadata": {},
   "outputs": [],
   "source": [
    "#Create DF of just Female gold Medalists\n",
    "goldFemale = goldMedals[goldMedals[Sex] == \"F\")]"
   ]
  },
  {
   "cell_type": "code",
   "execution_count": null,
   "metadata": {},
   "outputs": [],
   "source": [
    "#Create DF of just Male gold medalists\n",
    "goldMale = goldMedals[goldMedals[Sex] == \"M\")]"
   ]
  },
  {
   "cell_type": "code",
   "execution_count": null,
   "metadata": {},
   "outputs": [],
   "source": [
    "goldFemaleSport = goldFemale.Sport.value_counts().reset_index(name='Medal').head(20)\n",
    "goldMaleSport = goldMale.Sport.value_counts().reset_index(name='Medal').head(20)"
   ]
  },
  {
   "cell_type": "code",
   "execution_count": null,
   "metadata": {},
   "outputs": [],
   "source": [
    "goldMaleCountry = goldMale.Team.value_counts().reset_index(name='Medal').head(20) \n",
    "goldFemaleCountry = goldFemale.Team.value_counts().reset_index(name='Medal').head(20)"
   ]
  },
  {
   "cell_type": "markdown",
   "metadata": {},
   "source": [
    "# Gold Medals by Team"
   ]
  },
  {
   "cell_type": "code",
   "execution_count": null,
   "metadata": {},
   "outputs": [],
   "source": [
    "# Create a list indicating where to write x labels and set figure size to adjust for space\n",
    "x_axis = np.arange(len(goldFemaleCountry))\n",
    "tick_locations = [value for value in x_axis]"
   ]
  },
  {
   "cell_type": "code",
   "execution_count": null,
   "metadata": {},
   "outputs": [],
   "source": [
    "plt.figure(figsize=(20,3))\n",
    "p1 = plt.bar(x_axis, goldFemaleCountry[\"Medal\"], color='b', alpha=0.5, align=\"center\")\n",
    "p2 = plt.bar(x_axis, goldMaleCountry[\"Medal\"], color = 'r', bottom = goldFemaleCountry[\"Medal\"],alpha=0.5, align=\"center\")\n",
    "plt.xticks(tick_locations, goldFemaleCountry[\"index\"], rotation=\"vertical\")\n",
    "\n",
    "# Set a Title and labels\n",
    "plt.title(\"Male and Female Gold Medals by Top 20 Teams\")\n",
    "plt.xlabel(\"Team/Country\")\n",
    "plt.ylabel(\"Number of Gold Medals\")\n",
    "plt.legend(\"WM\")\n",
    "plt.savefig(\"GenderCountry.jpg\")"
   ]
  },
  {
   "cell_type": "markdown",
   "metadata": {},
   "source": [
    "## Gold Medals by Sport"
   ]
  },
  {
   "cell_type": "code",
   "execution_count": null,
   "metadata": {},
   "outputs": [],
   "source": [
    "plt.figure(figsize=(20,3))\n",
    "p3 = plt.bar(x_axis, goldFemaleSport[\"Medal\"], color='b', alpha=0.5, align=\"center\")\n",
    "p4 = plt.bar(x_axis, goldMaleSport[\"Medal\"], color = 'r', bottom = goldFemaleSport[\"Medal\"],alpha=0.5, align=\"center\")\n",
    "plt.xticks(tick_locations, goldFemaleSport[\"index\"], rotation=\"vertical\")\n",
    "\n",
    "# Set a Title and labels\n",
    "plt.title(\"Male and Female Gold Medals by Top 20 Sports\")\n",
    "plt.xlabel(\"Sport\")\n",
    "plt.ylabel(\"Number of Gold Medals\")\n",
    "plt.legend(\"WM\")\n",
    "plt.savefig(\"GenderMedals.jpg\")"
   ]
  },
  {
   "cell_type": "markdown",
   "metadata": {},
   "source": [
    "## DIFFERENCES BETWEEN SPORTS"
   ]
  },
  {
   "cell_type": "code",
   "execution_count": null,
   "metadata": {},
   "outputs": [],
   "source": [
    "# dataframes with average height, weight, bmi per sport\n",
    "\n",
    "grouped_men = men.groupby('Sport Category')['Height (cm)','Weight (kg)','BMI']\n",
    "grouped_women = women.groupby('Sport Category')['Height (cm)','Weight (kg)','BMI']\n",
    "\n",
    "sport_bmi_men = pd.DataFrame(grouped_men.mean().round(2).sort_values(by = 'BMI', ascending = True))\n",
    "sport_bmi_men;\n",
    "\n",
    "sport_bmi_women = pd.DataFrame(grouped_women.mean().round(2).sort_values(by = 'BMI', ascending = True))\n",
    "sport_bmi_women;\n",
    "\n",
    "sport_height_women = pd.DataFrame(grouped_women.mean().round(2).sort_values(by = 'Height (cm)', ascending = True))\n",
    "sport_height_men = pd.DataFrame(grouped_men.mean().round(2).sort_values(by = 'Height (cm)', ascending = False))"
   ]
  },
  {
   "cell_type": "code",
   "execution_count": null,
   "metadata": {
    "scrolled": false
   },
   "outputs": [],
   "source": [
    "plt.figure(figsize=(8, 8))\n",
    "plt.title('Average BMI by Olypic Sport:\\nMen', fontdict = {\n",
    "    'fontsize': 14,\n",
    "    'fontweight':'bold'\n",
    "})\n",
    "plt.plot(sport_bmi_men.index, sport_bmi_men['BMI'],'rs-.')\n",
    "plt.grid(True)\n",
    "plt.ylabel('BMI')\n",
    "plt.xticks(sport_bmi_women.index, rotation='25')\n",
    "plt.show\n",
    "plt.savefig('AverageBMIMen.png')"
   ]
  },
  {
   "cell_type": "code",
   "execution_count": null,
   "metadata": {
    "scrolled": true
   },
   "outputs": [],
   "source": [
    "plt.figure(figsize=(8, 8))\n",
    "plt.title('Average BMI by Olympic Sport:\\nWomen', fontdict = {\n",
    "    'fontsize': 14,\n",
    "    'fontweight':'bold'\n",
    "})\n",
    "plt.plot(sport_bmi_women.index, sport_bmi_women['BMI'], 'rs-.')\n",
    "plt.grid(True)\n",
    "plt.ylabel('BMI')\n",
    "plt.xticks(sport_bmi_women.index, rotation='25')\n",
    "plt.show\n",
    "plt.savefig('AverageBMIWomen.png')"
   ]
  },
  {
   "cell_type": "code",
   "execution_count": null,
   "metadata": {
    "scrolled": true
   },
   "outputs": [],
   "source": [
    "plt.figure(figsize=(8, 8))\n",
    "plt.title('Average Height (cm) by Olypic Sport:\\nMen', fontdict = {\n",
    "    'fontsize': 14,\n",
    "    'fontweight':'bold'\n",
    "})\n",
    "plt.plot(sport_height_men.index, sport_height_men['Height (cm)'],'rs-.')\n",
    "plt.grid(True)\n",
    "plt.ylabel('Height (cm)')\n",
    "plt.xticks(sport_height_men.index, rotation='25')\n",
    "plt.show\n",
    "plt.savefig('AverageHeightMen.png')"
   ]
  },
  {
   "cell_type": "code",
   "execution_count": null,
   "metadata": {},
   "outputs": [],
   "source": [
    "plt.figure(figsize=(8, 8))\n",
    "plt.title('Average Height (cm) by Olympic Sport:\\nWomen', fontdict = {\n",
    "    'fontsize': 14,\n",
    "    'fontweight':'bold'\n",
    "})\n",
    "plt.plot(sport_height_women.index, sport_height_women['Height (cm)'], 'rs-.')\n",
    "plt.grid(True)\n",
    "plt.ylabel('Height (cm)')\n",
    "plt.xticks(sport_height_women.index, rotation='25')\n",
    "plt.show\n",
    "plt.savefig('AverageHeightWomen.png')"
   ]
  },
  {
   "cell_type": "markdown",
   "metadata": {},
   "source": [
    "## MEDALS BY NATION"
   ]
  },
  {
   "cell_type": "code",
   "execution_count": null,
   "metadata": {},
   "outputs": [],
   "source": [
    "# Grouping data by country code\n",
    "noc_data = final_df.groupby(['NOC']).count()"
   ]
  },
  {
   "cell_type": "code",
   "execution_count": null,
   "metadata": {},
   "outputs": [],
   "source": [
    "# Sets-up x-axis and y-axis range\n",
    "medal_df = pd.DataFrame(noc_data['Medal'])\n",
    "medal_df = medal_df[(medal_df.T != 0).any()]\n",
    "cold_war_df = medal_df.drop(labels = ['USA', 'URS'])"
   ]
  },
  {
   "cell_type": "code",
   "execution_count": null,
   "metadata": {},
   "outputs": [],
   "source": [
    "# Plots bar chart\n",
    "fig, ax = plt.subplots(figsize=(40,20))\n",
    "ax.set_xticklabels(cold_war_df.index, rotation = 45, ha=\"right\")\n",
    "plt.title(\"Lifetime Medal Count by Country\")\n",
    "plt.xlabel(\"Country Code\")\n",
    "plt.ylabel(\"Lifetime Medal Count\")\n",
    "bar_chart = plt.bar(cold_war_df.index, cold_war_df['Medal'])\n",
    "plt.savefig('ColdWarMedalsBar')"
   ]
  },
  {
   "cell_type": "code",
   "execution_count": null,
   "metadata": {},
   "outputs": [],
   "source": [
    "# Plots bar chart\n",
    "fig, ax = plt.subplots(figsize=(40,20))\n",
    "ax.set_xticklabels(medal_df.index, rotation = 45, ha=\"right\")\n",
    "plt.title(\"Lifetime Medal Count by Country\")\n",
    "plt.xlabel(\"Country Code\")\n",
    "plt.ylabel(\"Lifetime Medal Count\")\n",
    "bar_chart = plt.bar(medal_df.index, medal_df['Medal'])\n",
    "plt.savefig('MedalsByCountryBar.png')"
   ]
  },
  {
   "cell_type": "code",
   "execution_count": null,
   "metadata": {},
   "outputs": [],
   "source": [
    "adjusted_df = final_df.reset_index(drop=True)\n",
    "sort_df = adjusted_df.groupby(['Year', 'NOC']).count()\n",
    "sort_df2=sort_df.reset_index()\n",
    "df = sort_df2[['Medal','Year','NOC']]\n",
    "noc_year = df['NOC'].value_counts()\n",
    "noc_medal = noc_data['Medal']\n",
    "noc_avg = noc_medal / noc_year\n",
    "avg_df = pd.DataFrame(noc_avg, columns = ['Average'])\n",
    "avg_df = avg_df[(avg_df.T != 0).any()]\n",
    "woutliers_df = avg_df.drop(labels = ['EUN', 'URS'])"
   ]
  },
  {
   "cell_type": "code",
   "execution_count": null,
   "metadata": {},
   "outputs": [],
   "source": [
    "fig, ax = plt.subplots(figsize=(40,20))\n",
    "ax.set_xticklabels(avg_df.index, rotation = 45, ha=\"right\")\n",
    "plt.title(\"Average Medal Count per Olympics by Country\")\n",
    "plt.xlabel(\"Country Code\")\n",
    "plt.ylabel(\"Average Medal Count per Olympics\")\n",
    "bar_chart = plt.bar(avg_df.index, avg_df['Average'])\n",
    "plt.savefig('avg_chart.png')"
   ]
  },
  {
   "cell_type": "code",
   "execution_count": null,
   "metadata": {},
   "outputs": [],
   "source": [
    "fig, ax = plt.subplots(figsize=(40,20))\n",
    "ax.set_xticklabels(woutliers_df.index, rotation = 45, ha=\"right\")\n",
    "plt.title(\"Average Medal Count per Olympics by Country\")\n",
    "plt.xlabel(\"Country Code\")\n",
    "plt.ylabel(\"Average Medal Count per Olympics\")\n",
    "bar_chart = plt.bar(woutliers_df.index, woutliers_df['Average'])\n",
    "plt.savefig('avg_chart_woutliers.png')"
   ]
  },
  {
   "cell_type": "code",
   "execution_count": null,
   "metadata": {},
   "outputs": [],
   "source": []
  }
 ],
 "metadata": {
  "kernelspec": {
   "display_name": "Python 3",
   "language": "python",
   "name": "python3"
  },
  "language_info": {
   "codemirror_mode": {
    "name": "ipython",
    "version": 3
   },
   "file_extension": ".py",
   "mimetype": "text/x-python",
   "name": "python",
   "nbconvert_exporter": "python",
   "pygments_lexer": "ipython3",
   "version": "3.7.3"
  }
 },
 "nbformat": 4,
 "nbformat_minor": 2
}
